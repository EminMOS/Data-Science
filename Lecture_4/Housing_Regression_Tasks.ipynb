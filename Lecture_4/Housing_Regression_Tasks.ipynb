{
 "cells": [
  {
   "cell_type": "markdown",
   "id": "43f2cf57",
   "metadata": {},
   "source": [
    "\n",
    "# Housing Prices: Linear and Logistic Regression\n",
    "\n",
    "Run the cells in order. The notebook covers:\n",
    "1. Data loading and preprocessing  \n",
    "2. **Task 1:** Linear Regression for price prediction  \n",
    "3. **Task 2:** Logistic Regression for classifying above-median homes  \n",
    "4. **Task 3:** Comparison and short reflection  \n"
   ]
  },
  {
   "cell_type": "code",
   "execution_count": null,
   "id": "81664488",
   "metadata": {},
   "outputs": [],
   "source": [
    "\n",
    "# Core libraries\n",
    "import pandas as pd\n",
    "import numpy as np\n",
    "import matplotlib.pyplot as plt\n",
    "\n",
    "# ML tools\n",
    "from sklearn.model_selection import train_test_split\n",
    "from sklearn.compose import ColumnTransformer, make_column_selector as selector\n",
    "from sklearn.preprocessing import OneHotEncoder, StandardScaler\n",
    "from sklearn.impute import SimpleImputer\n",
    "from sklearn.pipeline import Pipeline\n",
    "from sklearn.linear_model import LinearRegression, LogisticRegression\n",
    "from sklearn.metrics import mean_squared_error, accuracy_score, confusion_matrix, roc_curve, auc\n",
    "\n",
    "# Inline plots\n",
    "%matplotlib inline\n"
   ]
  },
  {
   "cell_type": "markdown",
   "id": "aa75dd4e",
   "metadata": {},
   "source": [
    "\n",
    "## Load dataset\n",
    "Place `houses.csv` in the same folder as this notebook or adjust the path.\n"
   ]
  },
  {
   "cell_type": "code",
   "execution_count": null,
   "id": "6ccacaeb",
   "metadata": {},
   "outputs": [],
   "source": [
    "\n",
    "# Load CSV\n",
    "df = pd.read_csv(\"houses.csv\")\n",
    "df.head()\n"
   ]
  },
  {
   "cell_type": "markdown",
   "id": "46e9ddff",
   "metadata": {},
   "source": [
    "\n",
    "## Select target, split, and build preprocessing\n",
    "The code picks a common price column automatically. If none is found, it falls back to the last numeric column.\n"
   ]
  },
  {
   "cell_type": "code",
   "execution_count": null,
   "id": "31d2cd74",
   "metadata": {},
   "outputs": [],
   "source": [
    "\n",
    "# Target selection\n",
    "candidate_targets = [\"price\", \"SalePrice\", \"median_house_value\", \"HousePrice\", \"target\"]\n",
    "target_col = None\n",
    "for c in df.columns:\n",
    "    if c.lower() in [t.lower() for t in candidate_targets]:\n",
    "        target_col = c\n",
    "        break\n",
    "\n",
    "if target_col is None:\n",
    "    numeric_cols = df.select_dtypes(include=[np.number]).columns.tolist()\n",
    "    if not numeric_cols:\n",
    "        raise ValueError(\"No numeric columns found. Cannot define a target variable.\")\n",
    "    target_col = numeric_cols[-1]\n",
    "\n",
    "y = df[target_col]\n",
    "X = df.drop(columns=[target_col])\n",
    "\n",
    "# Train-test split (same split used for both tasks for fairness)\n",
    "X_train, X_test, y_train, y_test = train_test_split(X, y, test_size=0.2, random_state=42)\n",
    "\n",
    "# Column selectors\n",
    "numeric_features = selector(dtype_include=np.number)(X_train)\n",
    "categorical_features = selector(dtype_exclude=np.number)(X_train)\n",
    "\n",
    "# Pipelines\n",
    "numeric_transformer = Pipeline(steps=[\n",
    "    (\"imputer\", SimpleImputer(strategy=\"median\")),\n",
    "    (\"scaler\", StandardScaler())\n",
    "])\n",
    "\n",
    "categorical_transformer = Pipeline(steps=[\n",
    "    (\"imputer\", SimpleImputer(strategy=\"most_frequent\")),\n",
    "    (\"onehot\", OneHotEncoder(handle_unknown=\"ignore\"))\n",
    "])\n",
    "\n",
    "preprocess = ColumnTransformer(\n",
    "    transformers=[\n",
    "        (\"num\", numeric_transformer, numeric_features),\n",
    "        (\"cat\", categorical_transformer, categorical_features),\n",
    "    ]\n",
    ")\n",
    "\n",
    "print(\"Target column:\", target_col)\n",
    "print(\"Numeric features:\", len(numeric_features))\n",
    "print(\"Categorical features:\", len(categorical_features))\n"
   ]
  },
  {
   "cell_type": "markdown",
   "id": "db27e306",
   "metadata": {},
   "source": [
    "\n",
    "## Quick EDA: top-3 numeric features vs price\n"
   ]
  },
  {
   "cell_type": "code",
   "execution_count": null,
   "id": "50bbee40",
   "metadata": {},
   "outputs": [],
   "source": [
    "\n",
    "top3_feats = []\n",
    "if len(numeric_features) > 0:\n",
    "    corr = df[numeric_features + [target_col]].corr()[target_col].drop(labels=[target_col])\n",
    "    corr_abs = corr.abs().sort_values(ascending=False)\n",
    "    top3_feats = corr_abs.head(min(3, len(corr_abs))).index.tolist()\n",
    "    print(\"Top 3 correlated numeric features:\", top3_feats)\n",
    "\n",
    "    for feat in top3_feats:\n",
    "        plt.figure()\n",
    "        plt.scatter(df[feat], df[target_col])\n",
    "        plt.xlabel(feat)\n",
    "        plt.ylabel(target_col)\n",
    "        plt.title(f\"{feat} vs {target_col}\")\n",
    "        plt.show()\n",
    "else:\n",
    "    print(\"No numeric features available for correlation plot.\")\n"
   ]
  },
  {
   "cell_type": "markdown",
   "id": "aa68cdd3",
   "metadata": {},
   "source": [
    "\n",
    "## Task 1: Linear Regression — Predict house prices\n"
   ]
  },
  {
   "cell_type": "code",
   "execution_count": null,
   "id": "cc3dfe3a",
   "metadata": {},
   "outputs": [],
   "source": [
    "\n",
    "linreg_model = Pipeline(steps=[(\"preprocess\", preprocess), (\"model\", LinearRegression())])\n",
    "linreg_model.fit(X_train, y_train)\n",
    "y_pred_reg = linreg_model.predict(X_test)\n",
    "mse = mean_squared_error(y_test, y_pred_reg)\n",
    "\n",
    "print(f\"Test MSE (Linear Regression): {mse:.4f}\")\n",
    "\n",
    "plt.figure()\n",
    "plt.scatter(y_test, y_pred_reg)\n",
    "min_val = min(np.min(y_test), np.min(y_pred_reg))\n",
    "max_val = max(np.max(y_test), np.max(y_pred_reg))\n",
    "plt.plot([min_val, max_val], [min_val, max_val])\n",
    "plt.xlabel(\"True Price\")\n",
    "plt.ylabel(\"Predicted Price\")\n",
    "plt.title(\"Linear Regression: True vs Predicted\")\n",
    "plt.show()\n"
   ]
  },
  {
   "cell_type": "markdown",
   "id": "9531d198",
   "metadata": {},
   "source": [
    "\n",
    "## Task 2: Logistic Regression — Classify above-median homes\n",
    "Label = 1 if price > median price, else 0.\n"
   ]
  },
  {
   "cell_type": "code",
   "execution_count": null,
   "id": "8a501bb7",
   "metadata": {},
   "outputs": [],
   "source": [
    "\n",
    "median_price = y.median()\n",
    "y_binary = (y > median_price).astype(int)\n",
    "\n",
    "# New split to avoid leakage due to different target\n",
    "X_train_b, X_test_b, y_train_b, y_test_b = train_test_split(X, y_binary, test_size=0.2, random_state=42)\n",
    "\n",
    "logreg_model = Pipeline(steps=[(\"preprocess\", preprocess), (\"model\", LogisticRegression(max_iter=1000))])\n",
    "logreg_model.fit(X_train_b, y_train_b)\n",
    "\n",
    "# Predictions and metrics\n",
    "y_pred_cls = logreg_model.predict(X_test_b)\n",
    "acc = accuracy_score(y_test_b, y_pred_cls)\n",
    "print(f\"Test Accuracy (Logistic Regression): {acc:.4f}\")\n",
    "\n",
    "# Confusion matrix\n",
    "cm = confusion_matrix(y_test_b, y_pred_cls)\n",
    "plt.figure()\n",
    "plt.imshow(cm, interpolation=\"nearest\")\n",
    "plt.title(\"Logistic Regression: Confusion Matrix\")\n",
    "plt.xlabel(\"Predicted label\")\n",
    "plt.ylabel(\"True label\")\n",
    "for i in range(cm.shape[0]):\n",
    "    for j in range(cm.shape[1]):\n",
    "        plt.text(j, i, cm[i, j], ha=\"center\", va=\"center\")\n",
    "plt.colorbar()\n",
    "plt.show()\n",
    "\n",
    "# ROC curve\n",
    "y_scores = logreg_model.predict_proba(X_test_b)[:, 1]\n",
    "fpr, tpr, thresholds = roc_curve(y_test_b, y_scores)\n",
    "roc_auc = auc(fpr, tpr)\n",
    "\n",
    "plt.figure()\n",
    "plt.plot(fpr, tpr, label=f\"AUC = {roc_auc:.3f}\")\n",
    "plt.plot([0, 1], [0, 1])\n",
    "plt.xlabel(\"False Positive Rate\")\n",
    "plt.ylabel(\"True Positive Rate\")\n",
    "plt.title(\"Logistic Regression: ROC Curve\")\n",
    "plt.legend()\n",
    "plt.show()\n",
    "\n",
    "print(f\"Binary threshold based on median price: {median_price:.3f}\")\n"
   ]
  },
  {
   "cell_type": "markdown",
   "id": "44aefa4e",
   "metadata": {},
   "source": [
    "\n",
    "## Task 3: Comparison and Reflection\n",
    "\n",
    "- Linear regression outputs a continuous price and is evaluated by MSE.  \n",
    "- Logistic regression outputs probabilities and class labels and is evaluated by accuracy and ROC AUC.  \n",
    "- Use cases: price estimation vs quick flagging of expensive homes.  \n",
    "- Try adding or removing features and re-run the cells to observe metric changes.\n"
   ]
  }
 ],
 "metadata": {
  "kernelspec": {
   "display_name": "base",
   "language": "python",
   "name": "python3"
  },
  "language_info": {
   "name": "python",
   "version": "3.12.7"
  }
 },
 "nbformat": 4,
 "nbformat_minor": 5
}
